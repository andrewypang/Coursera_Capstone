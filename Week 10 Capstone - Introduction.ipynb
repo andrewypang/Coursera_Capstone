{
 "cells": [
  {
   "cell_type": "markdown",
   "metadata": {},
   "source": [
    "# Week 10 Capstone - Introduction/Business Problem"
   ]
  },
  {
   "cell_type": "markdown",
   "metadata": {},
   "source": [
    "Clearly define a problem or an idea of your choice, where you would need to leverage the Foursquare location data to solve or execute. Remember that data science problems always target an audience and are meant to help a group of stakeholders solve a problem, so make sure that you explicitly describe your audience and why they would care about your problem."
   ]
  },
  {
   "cell_type": "markdown",
   "metadata": {},
   "source": [
    "---"
   ]
  },
  {
   "cell_type": "markdown",
   "metadata": {},
   "source": [
    "### Problem"
   ]
  },
  {
   "cell_type": "markdown",
   "metadata": {},
   "source": [
    "You decide you want to relocate to Washington state but which city is best? Since this can be answered in many ways, for this project, let's only consider population size, demographics, and the weather.\n",
    "\n",
    "Someone who is relocating might ask:\n",
    "- Which cities are the largest? \n",
    "- Which cities have the most population growth in recent years?\n",
    "- Are there any common trends between the larger cities vs the smaller cities?\n",
    "- How does the demographics vary between cities?\n",
    "- What's the weather like in the top cities?\n",
    "\n",
    "Let's use Foursquare location to ask some more detailed question about interested cities:\n",
    "- Are there parks nearby?\n",
    "- Are there libraries nearby?\n",
    "- What are some favorite or top rated spots in this city?"
   ]
  },
  {
   "cell_type": "code",
   "execution_count": null,
   "metadata": {},
   "outputs": [],
   "source": []
  }
 ],
 "metadata": {
  "kernelspec": {
   "display_name": "Python 3",
   "language": "python",
   "name": "python3"
  },
  "language_info": {
   "codemirror_mode": {
    "name": "ipython",
    "version": 3
   },
   "file_extension": ".py",
   "mimetype": "text/x-python",
   "name": "python",
   "nbconvert_exporter": "python",
   "pygments_lexer": "ipython3",
   "version": "3.7.6"
  }
 },
 "nbformat": 4,
 "nbformat_minor": 4
}

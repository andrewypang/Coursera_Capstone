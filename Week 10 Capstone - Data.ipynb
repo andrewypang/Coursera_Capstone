{
 "cells": [
  {
   "cell_type": "markdown",
   "metadata": {},
   "source": [
    "# Week 10 Capstone - Data"
   ]
  },
  {
   "cell_type": "markdown",
   "metadata": {},
   "source": [
    "Describe the data that you will be using to solve the problem or execute your idea. Remember that you will need to use the Foursquare location data to solve the problem or execute your idea. You can absolutely use other datasets in combination with the Foursquare location data. So make sure that you provide adequate explanation and discussion, with examples, of the data that you will be using, even if it is only Foursquare location data."
   ]
  },
  {
   "cell_type": "markdown",
   "metadata": {},
   "source": [
    "---"
   ]
  },
  {
   "cell_type": "markdown",
   "metadata": {},
   "source": [
    "### Data"
   ]
  },
  {
   "cell_type": "markdown",
   "metadata": {},
   "source": [
    "I will be web scraping wikipedia for data tables such as [List of municipalities in Washington](https://en.wikipedia.org/wiki/List_of_municipalities_in_Washington) and [Demographics](https://en.wikipedia.org/wiki/Washington_(state)#Demographics)\n",
    "\n",
    "Some features to consider:\n",
    "\n",
    "1) City population:\n",
    "\n",
    "    - Name, Type, County, Population, Population Growth, and Land Area for each city.\n",
    "    \n",
    "2) Demographics:\n",
    "\n",
    "    - Race, Hispanic Origin, Population, Total Population\n",
    "    "
   ]
  },
  {
   "cell_type": "markdown",
   "metadata": {},
   "source": [
    "I will use Foursquare location data to further compare the top cities such as:\n",
    "\n",
    "    - # of parks\n",
    "    - # of libraries\n",
    "    - what kind of food is nearby in the city"
   ]
  },
  {
   "cell_type": "markdown",
   "metadata": {},
   "source": [
    "### Goal"
   ]
  },
  {
   "cell_type": "markdown",
   "metadata": {},
   "source": [
    "In the end, I hope to show how each city compares to one another so anyone who is interested in relocating to Washington state can make a more informed decision."
   ]
  },
  {
   "cell_type": "code",
   "execution_count": null,
   "metadata": {},
   "outputs": [],
   "source": []
  }
 ],
 "metadata": {
  "kernelspec": {
   "display_name": "Python 3",
   "language": "python",
   "name": "python3"
  },
  "language_info": {
   "codemirror_mode": {
    "name": "ipython",
    "version": 3
   },
   "file_extension": ".py",
   "mimetype": "text/x-python",
   "name": "python",
   "nbconvert_exporter": "python",
   "pygments_lexer": "ipython3",
   "version": "3.7.6"
  }
 },
 "nbformat": 4,
 "nbformat_minor": 4
}

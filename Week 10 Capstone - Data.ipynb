{
 "cells": [
  {
   "cell_type": "markdown",
   "metadata": {},
   "source": [
    "# Week 10 Capstone - Data"
   ]
  },
  {
   "cell_type": "markdown",
   "metadata": {},
   "source": [
    "Describe the data that you will be using to solve the problem or execute your idea. Remember that you will need to use the Foursquare location data to solve the problem or execute your idea. You can absolutely use other datasets in combination with the Foursquare location data. So make sure that you provide adequate explanation and discussion, with examples, of the data that you will be using, even if it is only Foursquare location data."
   ]
  },
  {
   "cell_type": "markdown",
   "metadata": {},
   "source": [
    "---"
   ]
  },
  {
   "cell_type": "markdown",
   "metadata": {},
   "source": [
    "### Data"
   ]
  },
  {
   "cell_type": "markdown",
   "metadata": {},
   "source": [
    "I will be web scraping wikipedia for data tables such as [List of municipalities in Washington](https://en.wikipedia.org/wiki/List_of_municipalities_in_Washington). Since we are only interested in King County, we can filter by county.\n",
    "\n",
    "Some features to consider about our county:\n",
    "\n",
    "    - Name, Type, County, Population, and Population Growth for each city.\n",
    "    "
   ]
  },
  {
   "cell_type": "markdown",
   "metadata": {},
   "source": [
    "Foursquare location data to answer some basic questions:\n",
    "\n",
    "- Which cities in King County are the largest. This may help determine how often it will be used.\n",
    "- Are there other skateparks nearby? Are they public skateparks?\n",
    "- How many skateparks are in this city? A city with many skateparks may not need any more."
   ]
  },
  {
   "cell_type": "markdown",
   "metadata": {},
   "source": [
    "### Analysis"
   ]
  },
  {
   "cell_type": "markdown",
   "metadata": {},
   "source": [
    "- Compare population size to number of skateparks to see if there are any correlations.\n",
    "- Compare population size to skatepark location to help determine how likely it will be busy.\n",
    "- Compare all skatepark locations to see which cities have the most skateparks.\n",
    "- A city might have the most skateparks but they could be far away from each other. Which areas have the most density of skatepark so skaters can easily go to another park if one is crowded.\n",
    "- A city with a relatively low population but has a rising population growth might want a new skatepark. Which cities are these?"
   ]
  },
  {
   "cell_type": "markdown",
   "metadata": {},
   "source": [
    "### Goal"
   ]
  },
  {
   "cell_type": "markdown",
   "metadata": {},
   "source": [
    "In the end, I hope to show how the State of Washington can make a more informed decision about where to build the next new skatepark."
   ]
  },
  {
   "cell_type": "code",
   "execution_count": null,
   "metadata": {},
   "outputs": [],
   "source": []
  }
 ],
 "metadata": {
  "kernelspec": {
   "display_name": "Python 3",
   "language": "python",
   "name": "python3"
  },
  "language_info": {
   "codemirror_mode": {
    "name": "ipython",
    "version": 3
   },
   "file_extension": ".py",
   "mimetype": "text/x-python",
   "name": "python",
   "nbconvert_exporter": "python",
   "pygments_lexer": "ipython3",
   "version": "3.7.6"
  }
 },
 "nbformat": 4,
 "nbformat_minor": 4
}
